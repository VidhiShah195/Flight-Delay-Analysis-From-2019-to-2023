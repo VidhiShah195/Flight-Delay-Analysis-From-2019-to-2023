{
 "cells": [
  {
   "cell_type": "code",
   "execution_count": 1,
   "metadata": {},
   "outputs": [],
   "source": [
    "import streamlit as st\n",
    "import pandas as pd\n",
    "import plotly.express as px\n",
    "import base64\n",
    "import matplotlib.pyplot as plt"
   ]
  },
  {
   "cell_type": "code",
   "execution_count": 2,
   "metadata": {},
   "outputs": [
    {
     "name": "stderr",
     "output_type": "stream",
     "text": [
      "2024-04-30 22:22:58.389 WARNING streamlit.runtime.caching.cache_data_api: No runtime found, using MemoryCacheStorageManager\n"
     ]
    }
   ],
   "source": [
    "@st.cache_data\n",
    "def load_data(csv):\n",
    "    return pd.read_csv(csv)\n"
   ]
  },
  {
   "cell_type": "code",
   "execution_count": 4,
   "metadata": {},
   "outputs": [],
   "source": [
    "flights_data = load_data(\"Flight_delay.csv/flights_sample_3m.csv\")"
   ]
  },
  {
   "cell_type": "code",
   "execution_count": 6,
   "metadata": {},
   "outputs": [
    {
     "data": {
      "text/plain": [
       "['FL_DATE',\n",
       " 'AIRLINE',\n",
       " 'AIRLINE_DOT',\n",
       " 'AIRLINE_CODE',\n",
       " 'DOT_CODE',\n",
       " 'FL_NUMBER',\n",
       " 'ORIGIN',\n",
       " 'ORIGIN_CITY',\n",
       " 'DEST',\n",
       " 'DEST_CITY',\n",
       " 'CRS_DEP_TIME',\n",
       " 'DEP_TIME',\n",
       " 'DEP_DELAY',\n",
       " 'TAXI_OUT',\n",
       " 'WHEELS_OFF',\n",
       " 'WHEELS_ON',\n",
       " 'TAXI_IN',\n",
       " 'CRS_ARR_TIME',\n",
       " 'ARR_TIME',\n",
       " 'ARR_DELAY',\n",
       " 'CANCELLED',\n",
       " 'CANCELLATION_CODE',\n",
       " 'DIVERTED',\n",
       " 'CRS_ELAPSED_TIME',\n",
       " 'ELAPSED_TIME',\n",
       " 'AIR_TIME',\n",
       " 'DISTANCE',\n",
       " 'DELAY_DUE_CARRIER',\n",
       " 'DELAY_DUE_WEATHER',\n",
       " 'DELAY_DUE_NAS',\n",
       " 'DELAY_DUE_SECURITY',\n",
       " 'DELAY_DUE_LATE_AIRCRAFT']"
      ]
     },
     "execution_count": 6,
     "metadata": {},
     "output_type": "execute_result"
    }
   ],
   "source": [
    "column_names = flights_data.columns.tolist()\n",
    "column_names"
   ]
  },
  {
   "cell_type": "code",
   "execution_count": 8,
   "metadata": {},
   "outputs": [
    {
     "data": {
      "text/plain": [
       "DeltaGenerator()"
      ]
     },
     "execution_count": 8,
     "metadata": {},
     "output_type": "execute_result"
    }
   ],
   "source": [
    "# converting 'FL_DATE' column to datetime with the specific format in my dataset of day, month and then year.\n",
    "flights_data['FL_DATE'] = pd.to_datetime(flights_data['FL_DATE'], format='%Y-%m-%d')\n",
    "\n",
    "# adding a new column for day and month\n",
    "flights_data['Day_Month'] = flights_data['FL_DATE'].dt.strftime('%d-%b')\n",
    "\n",
    "# group by day_month and count the number of flights.\n",
    "daily_flights = flights_data.groupby('Day_Month')['FL_NUMBER'].count().reset_index(name='TotalFlights')\n",
    "months = ['Jan', 'Feb', 'Mar', 'Apr', 'May', 'Jun']\n",
    "\n",
    "# converting Day_Month to categorical and sorting it by the day and month.\n",
    "daily_flights['Day_Month'] = pd.Categorical(daily_flights['Day_Month'], categories=[f\"{day}-{month}\" for month in months for day in range(1, 32)], ordered=True)\n",
    "\n",
    "# sort daily_flights by day_month.\n",
    "daily_flights = daily_flights.sort_values('Day_Month')\n",
    "\n",
    "# making a line graph that plots the total number of flights over time.\n",
    "fig = px.line(daily_flights, x='Day_Month', y='TotalFlights', markers=True, \n",
    "              labels={'Day_Month': 'Day-Month', 'TotalFlights': 'Total Flights'},\n",
    "              title='Total Number of Flights by Day and Month',\n",
    "              hover_name='Day_Month', hover_data={'Day_Month': False, 'TotalFlights': True})\n",
    "\n",
    "# adding a tool tip\n",
    "fig.update_traces(hovertemplate='<b>Day-Month:</b> %{x}<br><b>Total Flights:</b> %{y:.0f}')\n",
    "st.plotly_chart(fig)"
   ]
  },
  {
   "cell_type": "code",
   "execution_count": null,
   "metadata": {},
   "outputs": [],
   "source": [
    "# BAR CHART FOR TOP 5 AIRPORTS DUE TO SLECTED DELAY TYPES\n",
    "st.header('Top 5 Airports by Delay Type')\n",
    "st.write(\"The bar chart below shows the top 5 bussiest airports based on your chosen dealy type.\")\n",
    "st.write(\"There are five types of dealys: \")\n",
    "st.write(\"1. CarrierDelay ✈ Delay caused due to carrier for example maintenance, crew problems, aircraft cleaning, fueling, etc.\")\n",
    "st.write(\"2. WeatherDelay ✈ Dealy due to extreme weather conditions.\")\n",
    "st.write(\"3. NASDelay ✈ Delay by National Aviation System (NAS) casued due to non-extreme weather conditions, airport operations, heavy traffic volumes, air traffic control, etc.\")\n",
    "st.write(\"4. SecurityDelay ✈ Delay due to security issues.\")\n",
    "st.write(\"5. LateAircraftDelay ✈ Delay due to delayed aircrafts.\")\n",
    "# filtering delayed flights.\n",
    "delayed_flights = flights_data[flights_data['ArrDelay'] > 0]\n",
    "\n",
    "# create a list of reasons for delay.\n",
    "delay_reasons = ['CarrierDelay', 'WeatherDelay', 'NASDelay', 'SecurityDelay', 'LateAircraftDelay']\n",
    "\n",
    "# adding a selectbox to choose the reason for delay.\n",
    "selected_reason = st.selectbox(\"Select Reason for Delay:\", delay_reasons)\n",
    "\n",
    "# filtering data based on selected delay reason.\n",
    "if selected_reason != 'LateAircraftDelay':  \n",
    "    delayed_flights = delayed_flights[delayed_flights[selected_reason] > 0]\n",
    "\n",
    "# count delayed flights by airport.\n",
    "delayed_by_airport = delayed_flights.groupby('Dest')['FlightNum'].count().reset_index()\n",
    "delayed_by_airport.columns = ['Airport', 'Delayedflights_datalights']\n",
    "\n",
    "# sort airports by the number of delayed flights.\n",
    "delayed_by_airport_sorted = delayed_by_airport.sort_values(by='Delayedflights_datalights', ascending=True)\n",
    "\n",
    "# selecting top 5 airports only.\n",
    "top_5_airports = delayed_by_airport_sorted.head(5)\n",
    "\n",
    "# creating horizontal bar plot for the top 5 airports.\n",
    "fig = px.bar(top_5_airports, y='Airport', x='Delayedflights_datalights',\n",
    "             title=f'Top 5 Airports with the Highest Number of Delayed Flights due to {selected_reason}',\n",
    "             labels={'Airport': 'Airport Code', 'Delayedflights_datalights': 'Number of Delayed Flights'},\n",
    "             orientation='h')\n",
    "\n",
    "# adding a tooltip\n",
    "fig.update_traces(hovertemplate='Airport: %{y}<br>Number of Delayed Flights: %{x:.0f}<extra></extra>')\n",
    "st.plotly_chart(fig)\n"
   ]
  }
 ],
 "metadata": {
  "kernelspec": {
   "display_name": "Project",
   "language": "python",
   "name": "python3"
  },
  "language_info": {
   "codemirror_mode": {
    "name": "ipython",
    "version": 3
   },
   "file_extension": ".py",
   "mimetype": "text/x-python",
   "name": "python",
   "nbconvert_exporter": "python",
   "pygments_lexer": "ipython3",
   "version": "3.10.12"
  }
 },
 "nbformat": 4,
 "nbformat_minor": 2
}
